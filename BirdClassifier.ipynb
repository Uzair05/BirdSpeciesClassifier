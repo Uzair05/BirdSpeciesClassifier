{
 "cells": [
  {
   "cell_type": "markdown",
   "metadata": {},
   "source": [
    "# Bird Species Classier \n",
    "Built using the [Kaggle dataset](https://www.kaggle.com/gpiosenka/100-bird-species) by [Gerry](https://www.kaggle.com/gpiosenka)\n",
    "\n",
    "Project By: [Uzair](https://github.com/Uzair05)"
   ]
  },
  {
   "cell_type": "markdown",
   "metadata": {},
   "source": [
    "## Download, extract and arrange data."
   ]
  },
  {
   "cell_type": "code",
   "execution_count": null,
   "metadata": {},
   "outputs": [],
   "source": [
    "#!pip install --upgrade kaggle\n",
    "!kaggle datasets download -d gpiosenka/100-bird-species"
   ]
  },
  {
   "cell_type": "code",
   "execution_count": 5,
   "metadata": {},
   "outputs": [],
   "source": [
    "import os \n",
    "import zipfile\n",
    "\n",
    "try:\n",
    "    os.mkdir(\"./data/\")\n",
    "except Exception as err:\n",
    "    print(f\"Error in creating data/:\\t{err}\")\n",
    "\n",
    "\n",
    "localzip = \"./100-bird-species.zip\"\n",
    "zip_ref = zipfile.ZipFile(localzip, 'r')\n",
    "try:\n",
    "    zip_ref.extractall('data/')\n",
    "except Exception as err:\n",
    "    print(f\"Erorr in zip extraction:\\t{err}\")\n",
    "finally:\n",
    "    zip_ref.close()"
   ]
  },
  {
   "cell_type": "markdown",
   "metadata": {},
   "source": [
    "## Handle Data\n",
    "Create train and test data."
   ]
  },
  {
   "cell_type": "code",
   "execution_count": null,
   "metadata": {},
   "outputs": [],
   "source": [
    "import numpy as np\n",
    "import pandas as pd\n",
    "import tensorflow as tf"
   ]
  },
  {
   "cell_type": "markdown",
   "metadata": {},
   "source": [
    "## CNN Using Transfer Learning"
   ]
  }
 ],
 "metadata": {
  "interpreter": {
   "hash": "85c613298e2573a698747096a05ed0fa75bd0f57ffe828e7c5873ae05c08a3c6"
  },
  "kernelspec": {
   "display_name": "Python 3.9.7 64-bit",
   "language": "python",
   "name": "python3"
  },
  "language_info": {
   "codemirror_mode": {
    "name": "ipython",
    "version": 3
   },
   "file_extension": ".py",
   "mimetype": "text/x-python",
   "name": "python",
   "nbconvert_exporter": "python",
   "pygments_lexer": "ipython3",
   "version": "3.9.7"
  },
  "orig_nbformat": 4
 },
 "nbformat": 4,
 "nbformat_minor": 2
}
