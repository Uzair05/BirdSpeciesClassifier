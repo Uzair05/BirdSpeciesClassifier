{
 "cells": [
  {
   "cell_type": "markdown",
   "metadata": {},
   "source": [
    "# Bird Species Classier \n",
    "Built using the [Kaggle dataset](https://www.kaggle.com/gpiosenka/100-bird-species) by [Gerald Piosenka](https://www.kaggle.com/gpiosenka)\n",
    "\n",
    "Project By: [Uzair](https://github.com/Uzair05)"
   ]
  },
  {
   "cell_type": "markdown",
   "metadata": {},
   "source": [
    "## Download, extract and arrange data."
   ]
  },
  {
   "cell_type": "code",
   "execution_count": null,
   "metadata": {},
   "outputs": [],
   "source": [
    "#!pip install --upgrade kaggle\n",
    "!kaggle datasets download -d gpiosenka/100-bird-species"
   ]
  },
  {
   "cell_type": "code",
   "execution_count": null,
   "metadata": {},
   "outputs": [],
   "source": [
    "import os \n",
    "import zipfile\n",
    "\n",
    "try:\n",
    "    os.mkdir(\"./data/\")\n",
    "except Exception as err:\n",
    "    print(f\"Error in creating data/:\\t{err}\")\n",
    "\n",
    "\n",
    "localzip = \"./100-bird-species.zip\"\n",
    "zip_ref = zipfile.ZipFile(localzip, 'r')\n",
    "try:\n",
    "    zip_ref.extractall('data/')\n",
    "except Exception as err:\n",
    "    print(f\"Erorr in zip extraction:\\t{err}\")\n",
    "finally:\n",
    "    zip_ref.close()"
   ]
  },
  {
   "cell_type": "markdown",
   "metadata": {},
   "source": [
    "## Handle Data\n",
    "Create train and test data."
   ]
  },
  {
   "cell_type": "code",
   "execution_count": null,
   "metadata": {},
   "outputs": [],
   "source": [
    "import numpy as np\n",
    "import pandas as pd\n",
    "import tensorflow as tf\n",
    "from tensorflow.keras.preprocessing.image import ImageDataGenerator\n",
    "from tensorflow.keras.optimizers import RMSprop"
   ]
  },
  {
   "cell_type": "code",
   "execution_count": null,
   "metadata": {},
   "outputs": [],
   "source": [
    "train_dir = \"./data/train\"\n",
    "test_dir = \"./data/test\"\n",
    "valid_dir = \"./data/valid\"\n",
    "\n",
    "train_datagen = ImageDataGenerator(\n",
    "    rescale = 1./255., \n",
    "    rotation_range = 20, \n",
    "    shear_range = 0.2,\n",
    "    width_shift_range = 0.2, \n",
    "    height_shift_range = 0.2, \n",
    "    zoom_range = 0.2, \n",
    "    horizontal_flip = True, \n",
    "    vertical_flip = True, \n",
    "    fill_mode='nearest'\n",
    ")\n",
    "\n",
    "test_datagen = ImageDataGenerator(\n",
    "    rescale=1./255.\n",
    ")\n",
    "valid_datagen = ImageDataGenerator(\n",
    "    rescale=1./255.\n",
    ")"
   ]
  },
  {
   "cell_type": "code",
   "execution_count": null,
   "metadata": {},
   "outputs": [],
   "source": [
    "train_generator = train_datagen.flow_from_directory(\n",
    "    train_dir, \n",
    "    target_size=(224,224), \n",
    "    batch_size=20, \n",
    "    class_mode=\"categorical\", \n",
    ")\n",
    "test_generator = test_datagen.flow_from_directory(\n",
    "    test_dir, \n",
    "    target_size=(224,224), \n",
    "    class_mode=\"categorical\", \n",
    "    batch_size=20\n",
    ")\n",
    "valid_generator = valid_datagen.flow_from_directory(\n",
    "    valid_dir, \n",
    "    target_size=(224,224), \n",
    "    class_mode=\"categorical\", \n",
    "    batch_size=20\n",
    ")"
   ]
  },
  {
   "cell_type": "code",
   "execution_count": null,
   "metadata": {},
   "outputs": [],
   "source": [
    "model = tf.keras.Model()"
   ]
  },
  {
   "cell_type": "markdown",
   "metadata": {},
   "source": [
    "## CNN Transfer Learning"
   ]
  },
  {
   "cell_type": "code",
   "execution_count": null,
   "metadata": {},
   "outputs": [],
   "source": [
    "from tensorflow.keras.applications.efficientnet import EfficientNetB3"
   ]
  },
  {
   "cell_type": "code",
   "execution_count": null,
   "metadata": {},
   "outputs": [],
   "source": [
    "del model\n",
    "model = tf.keras.models.load_model(\"./data/EfficientNetB3-birds-98.92.h5\")\n",
    "model.summary()"
   ]
  },
  {
   "cell_type": "code",
   "execution_count": null,
   "metadata": {},
   "outputs": [],
   "source": [
    "for layers in model.layers[:-6]:\n",
    "    layers.trainable = False"
   ]
  },
  {
   "cell_type": "code",
   "execution_count": null,
   "metadata": {},
   "outputs": [],
   "source": [
    "model.compile(loss='categorical_crossentropy',\n",
    "              optimizer=RMSprop(learning_rate=1e-4),\n",
    "              metrics=['accuracy'])"
   ]
  },
  {
   "cell_type": "markdown",
   "metadata": {},
   "source": [
    "## CNN Using Own Architecture"
   ]
  },
  {
   "cell_type": "code",
   "execution_count": null,
   "metadata": {},
   "outputs": [],
   "source": [
    "del model\n",
    "model = tf.keras.models.Sequential([\n",
    "    tf.keras.layers.Conv2D(16, (3,3), activation='relu'),\n",
    "    tf.keras.layers.MaxPool2D(2,2), \n",
    "    tf.keras.layers.Conv2D(32, (3,3), activation='relu'),\n",
    "    tf.keras.layers.MaxPool2D(2,2), \n",
    "    tf.keras.layers.Conv2D(32, (3,3), activation=tf.nn.leaky_relu),\n",
    "    tf.keras.layers.MaxPool2D(2,2), \n",
    "    tf.keras.layers.Flatten(), \n",
    "    tf.keras.layers.Dense(16, activation=tf.nn.relu),\n",
    "    tf.keras.layers.Dense(32, activation=tf.nn.relu),\n",
    "    tf.keras.layers.Dropout(0.2),\n",
    "    tf.keras.layers.Dense(32, activation=tf.nn.relu),\n",
    "    tf.keras.layers.Dropout(0.2),\n",
    "    tf.keras.layers.Dense(315, activation=tf.nn.softmax)\n",
    "])\n",
    "\n",
    "model.compile(loss='categorical_crossentropy',\n",
    "              optimizer=RMSprop(learning_rate=1e-4),\n",
    "              metrics=['accuracy'])\n"
   ]
  },
  {
   "cell_type": "markdown",
   "metadata": {},
   "source": [
    "## Fit and Evaluate"
   ]
  },
  {
   "cell_type": "code",
   "execution_count": null,
   "metadata": {},
   "outputs": [],
   "source": [
    "class myCallback(tf.keras.callbacks.Callback):\n",
    "      def on_epoch_end(self, epoch, logs={}):\n",
    "        accuracy = 0.95 # Percentage Accuracy.\n",
    "        if(logs.get('accuracy') != None) and (logs.get('accuracy') >= accuracy): # Experiment with changing this value\n",
    "          print(f\"\\nReached {accuracy*100}% accuracy so cancelling training!\")\n",
    "          self.model.stop_training = True\n",
    "\n",
    "callbacks = myCallback()"
   ]
  },
  {
   "cell_type": "code",
   "execution_count": null,
   "metadata": {},
   "outputs": [],
   "source": [
    "history = model.fit(\n",
    "    train_generator,\n",
    "    epochs = 5, \n",
    "    #steps_per_epoch = 50, \n",
    "    validation_data = test_generator, \n",
    "    verbose = 1, \n",
    "    validation_steps = 10,\n",
    "    callbacks=[callbacks]\n",
    ")"
   ]
  },
  {
   "cell_type": "code",
   "execution_count": null,
   "metadata": {},
   "outputs": [],
   "source": [
    "tf.keras.models.save_model(model, \"./data\", save_format='h5')"
   ]
  },
  {
   "cell_type": "code",
   "execution_count": null,
   "metadata": {},
   "outputs": [],
   "source": [
    "history.history"
   ]
  },
  {
   "cell_type": "code",
   "execution_count": null,
   "metadata": {},
   "outputs": [],
   "source": [
    "eval = model.evaluate(\n",
    "    valid_generator,\n",
    "    batch_size=20\n",
    ")"
   ]
  }
 ],
 "metadata": {
  "interpreter": {
   "hash": "85c613298e2573a698747096a05ed0fa75bd0f57ffe828e7c5873ae05c08a3c6"
  },
  "kernelspec": {
   "display_name": "Python 3",
   "language": "python",
   "name": "python3"
  },
  "language_info": {
   "codemirror_mode": {
    "name": "ipython",
    "version": 3
   },
   "file_extension": ".py",
   "mimetype": "text/x-python",
   "name": "python",
   "nbconvert_exporter": "python",
   "pygments_lexer": "ipython3",
   "version": "3.9.7"
  }
 },
 "nbformat": 4,
 "nbformat_minor": 2
}
